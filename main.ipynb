{
 "cells": [
  {
   "cell_type": "code",
   "execution_count": null,
   "source": [
    "import snap\n",
    "import os.path"
   ],
   "outputs": [],
   "metadata": {}
  },
  {
   "cell_type": "markdown",
   "source": [
    "# Global Variables"
   ],
   "metadata": {}
  },
  {
   "cell_type": "code",
   "execution_count": null,
   "source": [
    "__no_label__ = \"NO_LABEL\""
   ],
   "outputs": [],
   "metadata": {}
  },
  {
   "cell_type": "markdown",
   "source": [
    "# Load datasets"
   ],
   "metadata": {}
  },
  {
   "cell_type": "code",
   "execution_count": null,
   "source": [
    "# Generic funtion to read edge file into a network\n",
    "# TODO: \n",
    "# allow any graph type not only snap.TNEANet\n",
    "# check if binary exists, if so, load that (rename function to make graph/net)\n",
    "def edge_file_to_network(filename, edge_attr, src_node_attr, dst_node_attr, tab_separated=False, dump=False):\n",
    "    context = snap.TTableContext()\n",
    "\n",
    "    schema = snap.Schema()\n",
    "    schema.Add(snap.TStrTAttrPr(\"srcID\", snap.atInt))\n",
    "    schema.Add(snap.TStrTAttrPr(\"dstID\", snap.atInt))\n",
    "    \n",
    "    edgeattrv = snap.TStrV()\n",
    "    for attr, val in edge_attr.items():\n",
    "        edgeattrv.Add(attr)\n",
    "        schema.Add(snap.TStrTAttrPr(attr, val))\n",
    "    \n",
    "    srcnodeattrv = snap.TStrV()\n",
    "    for attr, val in src_node_attr.items():\n",
    "        srcnodeattrv.Add(attr)\n",
    "        schema.Add(snap.TStrTAttrPr(attr, val))\n",
    "\n",
    "    dstnodeattrv = snap.TStrV()\n",
    "    for attr, val in dst_node_attr.items():\n",
    "        dstnodeattrv.Add(attr)\n",
    "        schema.Add(snap.TStrTAttrPr(attr, val))\n",
    "\n",
    "    if tab_separated:\n",
    "        separator = '\\t'\n",
    "    else:\n",
    "        separator = ' '\n",
    "\n",
    "    table = snap.TTable.LoadSS(schema, filename, context, separator, snap.TBool(False))\n",
    "\n",
    "    # net will be an object of type snap.TNEANet\n",
    "    net = table.ToNetwork(snap.TNEANet, \"srcID\", \"dstID\", srcnodeattrv, dstnodeattrv, edgeattrv, snap.aaFirst)\n",
    "\n",
    "    if dump:\n",
    "        net.Dump()\n",
    "\n",
    "    # Save to binary\n",
    "    outfile = filename + \".bin\"\n",
    "    FOut = snap.TFOut(outfile)\n",
    "    table.Save(FOut)\n",
    "    FOut.Flush()\n",
    "\n",
    "    return net\n",
    "\n",
    "def make_residence_hall_network():\n",
    "    filename = \"data/moreno_oz/out.moreno_oz_oz\"\n",
    "\n",
    "    edge_attr = {\"relationship\" : snap.atInt}\n",
    "    src_node_attr = {}\n",
    "    dst_node_attr = {}\n",
    "\n",
    "    return edge_file_to_network(filename, edge_attr, src_node_attr, dst_node_attr)\n",
    "\n",
    "def make_pg_paper_network():\n",
    "    filename = \"data/example/pg_paper.txt\"\n",
    "\n",
    "    edge_attr = {\"edgelabel\" : snap.atStr}\n",
    "    src_node_attr = {}\n",
    "    dst_node_attr = {}\n",
    "\n",
    "    return edge_file_to_network(filename, edge_attr, src_node_attr, dst_node_attr)"
   ],
   "outputs": [],
   "metadata": {}
  },
  {
   "cell_type": "code",
   "execution_count": null,
   "source": [
    "residence_hall = make_residence_hall_network()\n",
    "pg_paper = make_pg_paper_network()"
   ],
   "outputs": [],
   "metadata": {}
  },
  {
   "cell_type": "markdown",
   "source": [
    "# Grouping"
   ],
   "metadata": {}
  },
  {
   "cell_type": "code",
   "execution_count": null,
   "source": [
    "# The 1st attribute of an edge is the edge label\n",
    "def get_edge_ids_per_label(network):\n",
    "    labels = {}\n",
    "    for EI in network.Edges():\n",
    "        edge_id = EI.GetId()\n",
    "        attr_values = snap.TStrV()\n",
    "        network.AttrValueEI(edge_id, attr_values)\n",
    "        label = attr_values[0]\n",
    "        labels.setdefault(label, snap.TIntV()).append(edge_id)\n",
    "    return labels\n",
    "\n",
    "def compute_groupings(network):\n",
    "    labels_edge_ids = get_edge_ids_per_label(network)\n",
    "    groupings = {}\n",
    "    node_ids_in_groupings = snap.TIntV()\n",
    "    for label, edge_ids in sorted(labels_edge_ids.items(), \n",
    "                                    key=lambda item: len(item[1]), \n",
    "                                    reverse=True):\n",
    "        sub_graph = network.GetESubGraph(edge_ids)\n",
    "        # We cannot use DelNodes; an exception is thrown if we try to remove a \n",
    "        # node that is not there. There is not way to continue after the \n",
    "        # exception is thrown, hence not all nodes get removed.\n",
    "        for node_id in node_ids_in_groupings:\n",
    "            try:\n",
    "                sub_graph.DelNode(node_id)\n",
    "            except Exception:\n",
    "                pass\n",
    "        for NI in sub_graph.Nodes():\n",
    "            node_ids_in_groupings.append(NI.GetId())\n",
    "        if not sub_graph.Empty():\n",
    "            groupings[label] = sub_graph\n",
    "\n",
    "    # We must place nodes with degree zero in their own grouping\n",
    "    in_deg_v = network.GetNodeInDegV()\n",
    "    out_deg_v = network.GetNodeOutDegV()\n",
    "    zero_deg_nodes = snap.TIntV()\n",
    "    for node_id_in_deg in in_deg_v:\n",
    "        if node_id_in_deg.GetVal2() == 0:\n",
    "            zero_deg_nodes.Add(node_id_in_deg.GetVal1())\n",
    "    for node_id_in_deg in out_deg_v:\n",
    "        if node_id_in_deg.GetVal2() != 0:\n",
    "            zero_deg_nodes.DelIfIn(node_id_in_deg.GetVal1())\n",
    "    if not zero_deg_nodes.Empty():\n",
    "        sub_graph = network.GetSubGraph(zero_deg_nodes)\n",
    "        groupings[__no_label__] = sub_graph\n",
    "\n",
    "    return groupings"
   ],
   "outputs": [],
   "metadata": {}
  },
  {
   "cell_type": "markdown",
   "source": [
    "# Evaluation"
   ],
   "metadata": {}
  },
  {
   "cell_type": "code",
   "execution_count": null,
   "source": [
    "class SuperNode:\n",
    "    def __init__(self, grouping, id, sub_graph):\n",
    "        self.grouping = grouping\n",
    "        self.id = id\n",
    "        self.sub_graph = sub_graph\n",
    "\n",
    "def evaluation(network, groupings):\n",
    "    super_nodes = {}\n",
    "    super_node_id = 1\n",
    "    for label, sub_graph in groupings.items():\n",
    "        print(\"Size of %s grouping: %d\" % (label, sub_graph.GetNodes()))\n",
    "        components = sub_graph.GetWccs()\n",
    "        for component in components:\n",
    "            print(\"Size of subgrouping: %d\" % component.Len())\n",
    "            # Need to turn the component into a list because GetSubGraph only \n",
    "            # takes TIntV and component is of type TCnCom. According to the \n",
    "            # docs it should be of type TIntV (it essentially is), but I don't \n",
    "            # know how to get python to see that.\n",
    "            component_as_list = list(component)\n",
    "            wcc_sub_graph = network.GetSubGraph(component_as_list)\n",
    "            super_node = SuperNode(label, super_node_id, wcc_sub_graph)\n",
    "            super_nodes[super_node_id] = super_node\n",
    "            super_node_id = super_node_id + 1\n",
    "    # for id, s_node in super_nodes.items():\n",
    "    #     print(\"Id: %d; Size: %d\" %(id, s_node.sub_graph.GetNodes()))\n",
    "    return super_nodes"
   ],
   "outputs": [],
   "metadata": {}
  },
  {
   "cell_type": "code",
   "execution_count": null,
   "source": [
    "pg_paper_groupings = compute_groupings(pg_paper)"
   ],
   "outputs": [],
   "metadata": {}
  },
  {
   "cell_type": "code",
   "execution_count": null,
   "source": [
    "print(pg_paper.GetNodes())\n",
    "pg_paper_groupings = compute_groupings(pg_paper)\n",
    "super_nodes = evaluation(pg_paper, pg_paper_groupings)\n",
    "print(super_nodes[1].sub_graph.GetNodes())\n",
    "super_nodes[1].sub_graph.Dump()"
   ],
   "outputs": [],
   "metadata": {}
  },
  {
   "cell_type": "code",
   "execution_count": null,
   "source": [
    "print(residence_hall.GetNodes())\n",
    "residence_hall_groupings = compute_groupings(residence_hall)"
   ],
   "outputs": [],
   "metadata": {
    "tags": [
     "outputPrepend"
    ]
   }
  }
 ],
 "metadata": {
  "kernelspec": {
   "name": "python3",
   "display_name": "Python 3.9.6 64-bit ('thesis-env': conda)"
  },
  "language_info": {
   "codemirror_mode": {
    "name": "ipython",
    "version": 3
   },
   "file_extension": ".py",
   "mimetype": "text/x-python",
   "name": "python",
   "nbconvert_exporter": "python",
   "pygments_lexer": "ipython3",
   "version": "3.9.6"
  },
  "interpreter": {
   "hash": "e987b2372556ecec53e814fdf219e9997431ddd8abb9316e95ab6f4cea9af2a6"
  }
 },
 "nbformat": 4,
 "nbformat_minor": 5
}